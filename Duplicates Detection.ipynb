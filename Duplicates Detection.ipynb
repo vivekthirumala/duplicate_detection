{
 "cells": [
  {
   "cell_type": "code",
   "execution_count": null,
   "metadata": {},
   "outputs": [],
   "source": [
    "import pandas as pd\n",
    "import numpy as np\n",
    "from PIL import Image\n",
    "from io import BytesIO\n",
    "import cv2\n",
    "from skimage.measure import compare_ssim\n",
    "import json"
   ]
  },
  {
   "cell_type": "markdown",
   "metadata": {},
   "source": [
    "### Reading the Raw Data"
   ]
  },
  {
   "cell_type": "code",
   "execution_count": null,
   "metadata": {},
   "outputs": [],
   "source": [
    "data = pd.read_csv('C:\\\\Users\\\\vthirumala\\\\Downloads\\\\Fishes\\\\Case Studies\\\\infilect\\\\1 Rawdata\\\\small-2oq-c1r.csv',error_bad_lines=False)"
   ]
  },
  {
   "cell_type": "markdown",
   "metadata": {},
   "source": [
    "### 1 Filtering Tunic"
   ]
  },
  {
   "cell_type": "code",
   "execution_count": null,
   "metadata": {},
   "outputs": [],
   "source": [
    "def get_tunic(x):\n",
    "    return x.endswith('Tunics')\n",
    "data['Tunic_Filter'] = data['categories'].astype(str).apply(get_tunic)\n",
    "data_tunics = data[data['Tunic_Filter']]\n",
    "del data['Tunic_Filter']\n",
    "del data_tunics['Tunic_Filter']"
   ]
  },
  {
   "cell_type": "markdown",
   "metadata": {},
   "source": [
    "### 2 Dropping identical/duplicate rows"
   ]
  },
  {
   "cell_type": "code",
   "execution_count": null,
   "metadata": {},
   "outputs": [],
   "source": [
    "data_tunics = data_tunics.drop_duplicates(subset=['productId'])"
   ]
  },
  {
   "cell_type": "markdown",
   "metadata": {},
   "source": [
    "### 3 Dropping redundant and unnecessary columns"
   ]
  },
  {
   "cell_type": "code",
   "execution_count": null,
   "metadata": {},
   "outputs": [],
   "source": [
    "data_tunics = data_tunics.drop(['description','categories','sellingPrice', 'specialPrice', 'productUrl', 'productBrand', \n",
    "                                'productFamily','inStock', 'codAvailable','offers', 'discount', 'shippingCharges', 'keySpecsStr',\n",
    "                                'deliveryTime', 'sizeUnit','storage','displaySize', 'specificationList', 'sellerName', \n",
    "                                'sellerAverageRating', 'sellerNoOfRatings','sellerNoOfReviews', 'sleeve', 'idealFor', 'neck'], axis=1)#, inplace=True)"
   ]
  },
  {
   "cell_type": "markdown",
   "metadata": {},
   "source": [
    "### 4 Creating the 8-Character column"
   ]
  },
  {
   "cell_type": "code",
   "execution_count": null,
   "metadata": {},
   "outputs": [],
   "source": [
    "data_tunics['pId_08'] = data_tunics['productId'].str[:8]"
   ]
  },
  {
   "cell_type": "markdown",
   "metadata": {},
   "source": [
    "### 5 Getting the unique 8-Character Groups "
   ]
  },
  {
   "cell_type": "code",
   "execution_count": null,
   "metadata": {},
   "outputs": [],
   "source": [
    "pid_first_8_chars_unique = data_tunics['pId_08'].value_counts()"
   ]
  },
  {
   "cell_type": "markdown",
   "metadata": {},
   "source": [
    "### 6 Getting the unique 8-Character Groups where each group has atleast 2 productIds"
   ]
  },
  {
   "cell_type": "code",
   "execution_count": null,
   "metadata": {},
   "outputs": [],
   "source": [
    "pid_first_8_chars_unique = pid_first_8_chars_unique.index[data_tunics['pId_08'].value_counts()>1]"
   ]
  },
  {
   "cell_type": "markdown",
   "metadata": {},
   "source": [
    "### 7 Extracting image data using imageUrlStr"
   ]
  },
  {
   "cell_type": "code",
   "execution_count": null,
   "metadata": {},
   "outputs": [],
   "source": [
    "#  This numpy array data of image will be used for comparing similarity between two images.\n",
    "#  This part of code is most time consuming, as it downloads image from the internet and then converts the image to numpy array.\n",
    "def get_img(url):\n",
    "    response = requests.get(url)\n",
    "    img = Image.open(BytesIO(response.content))\n",
    "    img = np.array(img)\n",
    "    img = cv2.resize(img, (20, 50))\n",
    "    return img\n",
    "\n",
    "data_tunics['image_data']=''\n",
    "for i in np.arange(0,len(data_tunics)):\n",
    "    try:\n",
    "        data_tunics.at[i, 'image_data'] = get_img(data_tunics.loc[i,'imageUrlStr'].split(';')[0])\n",
    "    except:\n",
    "        continue"
   ]
  },
  {
   "cell_type": "markdown",
   "metadata": {},
   "source": [
    "### 8 Creating function for calculating similarity score"
   ]
  },
  {
   "cell_type": "code",
   "execution_count": null,
   "metadata": {},
   "outputs": [],
   "source": [
    "def calculate_score(row1, row2):\n",
    "    \n",
    "    #Gives similarity score of image url as 0 or 1 \n",
    "    image_score = float(row1['imageUrlStr'].strip(';')[0] == row2['imageUrlStr'].strip(';')[0])\n",
    "    try:\n",
    "        image_score = compare_ssim(row1['image_data'], row2['image_data'], multichannel=True)\n",
    "    except:\n",
    "        #In few of the cases, the image data could not be captured properly. \n",
    "        #In those cases, image_score is taken as 0.5\n",
    "        image_score = 0.5\n",
    "    \n",
    "    #Gives similarity score of mrp as 0 or 1\n",
    "    mrp_score = float(row1['mrp'] == row2['mrp'])\n",
    "\n",
    "    #Gives similarity score of title as 0 or 1\n",
    "    title_score = float(row1['title'] == row2['title'])\n",
    "\n",
    "    #Gives similarity score of detailedSpecStr as 0 or 1\n",
    "    detailedSpecStr_score = float(row1['detailedSpecsStr'] == row2['detailedSpecsStr'])\n",
    "\n",
    "    #Return mean of all the individual scores calculated upto 6 decimal places\n",
    "    return np.mean([image_score, mrp_score, title_score, detailedSpecStr_score]).round(6)"
   ]
  },
  {
   "cell_type": "markdown",
   "metadata": {},
   "source": [
    "### 9 Iterative Comparison"
   ]
  },
  {
   "cell_type": "code",
   "execution_count": null,
   "metadata": {},
   "outputs": [],
   "source": [
    "master_dictionary={}\n",
    "\n",
    "for pid in pid_first_8_chars_unique:\n",
    "\n",
    "    #Filtering data for each group\n",
    "\n",
    "    data = data_tunics[data_tunics['pId_08']==pid]\n",
    "    \n",
    "    for i in range(len(data)-1):\n",
    "        \n",
    "        dictionary = {}\n",
    "        #key of the dictionary object is ith product id of the group. \n",
    "\n",
    "        similar_pids = []\n",
    "        #Similar_pids will have productIds of duplicate products along with similarity score\n",
    "\n",
    "        for j in np.arange(i+1,len(data)):\n",
    "        \n",
    "            score = calculate_score(data.iloc[i,:], data.iloc[j,:])\n",
    "            \n",
    "            similar_pids.append(data.iloc[j,0])\n",
    "\n",
    "            similar_pids.append(score)\n",
    "            \n",
    "        similar_pids = np.array(similar_pids).reshape(int(len(similar_pids)/2),2)\n",
    "        #Converting the 1-dimensional list to a 2 dimensional array\n",
    "        \n",
    "        b = similar_pids[similar_pids[:,1].astype(float)>0.5,:]\n",
    "        #Filtering the numpy array to only have values with probability more than 0.5\n",
    "        try:\n",
    "            \n",
    "            b = b[-1*min(-b[:,1].astype(float).argsort())+-b[:,1].astype(float).argsort()].tolist()\n",
    "            \n",
    "        except:\n",
    "\n",
    "            b = []\n",
    "            \n",
    "        dictionary[data.iloc[i,0]] = b\n",
    "        \n",
    "        master_dictionary.update(dictionary)"
   ]
  },
  {
   "cell_type": "markdown",
   "metadata": {},
   "source": [
    "### 10 Saving result in JSON format"
   ]
  },
  {
   "cell_type": "code",
   "execution_count": null,
   "metadata": {},
   "outputs": [],
   "source": [
    "filename = 'C:\\\\Users\\\\vthirumala\\\\Downloads\\\\Fishes\\\\Case Studies\\\\infilect\\\\result.json'\n",
    "json.dump(master_dictionary, open(filename, 'w'), indent=3)"
   ]
  }
 ],
 "metadata": {
  "kernelspec": {
   "display_name": "Python 3",
   "language": "python",
   "name": "python3"
  },
  "language_info": {
   "codemirror_mode": {
    "name": "ipython",
    "version": 3
   },
   "file_extension": ".py",
   "mimetype": "text/x-python",
   "name": "python",
   "nbconvert_exporter": "python",
   "pygments_lexer": "ipython3",
   "version": "3.6.4"
  }
 },
 "nbformat": 4,
 "nbformat_minor": 2
}
